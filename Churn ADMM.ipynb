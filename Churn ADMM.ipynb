{
 "cells": [
  {
   "cell_type": "markdown",
   "id": "def6451c",
   "metadata": {},
   "source": [
    "# Churn Modelling with ADMM optimizer"
   ]
  },
  {
   "cell_type": "markdown",
   "id": "9c782796",
   "metadata": {},
   "source": [
    "## Load dataset"
   ]
  },
  {
   "cell_type": "code",
   "execution_count": 1,
   "id": "99d60631",
   "metadata": {},
   "outputs": [],
   "source": [
    "import pandas as pd\n",
    "churn_dataset = pd.read_csv('Churn_Modelling.csv')"
   ]
  },
  {
   "cell_type": "code",
   "execution_count": 2,
   "id": "c92216de",
   "metadata": {},
   "outputs": [
    {
     "data": {
      "text/html": [
       "<div>\n",
       "<style scoped>\n",
       "    .dataframe tbody tr th:only-of-type {\n",
       "        vertical-align: middle;\n",
       "    }\n",
       "\n",
       "    .dataframe tbody tr th {\n",
       "        vertical-align: top;\n",
       "    }\n",
       "\n",
       "    .dataframe thead th {\n",
       "        text-align: right;\n",
       "    }\n",
       "</style>\n",
       "<table border=\"1\" class=\"dataframe\">\n",
       "  <thead>\n",
       "    <tr style=\"text-align: right;\">\n",
       "      <th></th>\n",
       "      <th>CreditScore</th>\n",
       "      <th>Geography</th>\n",
       "      <th>Gender</th>\n",
       "      <th>Tenure</th>\n",
       "      <th>Balance</th>\n",
       "      <th>NumOfProducts</th>\n",
       "      <th>HasCrCard</th>\n",
       "      <th>IsActiveMember</th>\n",
       "      <th>EstimatedSalary</th>\n",
       "      <th>Exited</th>\n",
       "    </tr>\n",
       "  </thead>\n",
       "  <tbody>\n",
       "    <tr>\n",
       "      <th>0</th>\n",
       "      <td>619</td>\n",
       "      <td>France</td>\n",
       "      <td>Female</td>\n",
       "      <td>2</td>\n",
       "      <td>0.00</td>\n",
       "      <td>1</td>\n",
       "      <td>1</td>\n",
       "      <td>1</td>\n",
       "      <td>101348.88</td>\n",
       "      <td>1</td>\n",
       "    </tr>\n",
       "    <tr>\n",
       "      <th>1</th>\n",
       "      <td>608</td>\n",
       "      <td>Spain</td>\n",
       "      <td>Female</td>\n",
       "      <td>1</td>\n",
       "      <td>83807.86</td>\n",
       "      <td>1</td>\n",
       "      <td>0</td>\n",
       "      <td>1</td>\n",
       "      <td>112542.58</td>\n",
       "      <td>0</td>\n",
       "    </tr>\n",
       "    <tr>\n",
       "      <th>2</th>\n",
       "      <td>502</td>\n",
       "      <td>France</td>\n",
       "      <td>Female</td>\n",
       "      <td>8</td>\n",
       "      <td>159660.80</td>\n",
       "      <td>3</td>\n",
       "      <td>1</td>\n",
       "      <td>0</td>\n",
       "      <td>113931.57</td>\n",
       "      <td>1</td>\n",
       "    </tr>\n",
       "    <tr>\n",
       "      <th>3</th>\n",
       "      <td>699</td>\n",
       "      <td>France</td>\n",
       "      <td>Female</td>\n",
       "      <td>1</td>\n",
       "      <td>0.00</td>\n",
       "      <td>2</td>\n",
       "      <td>0</td>\n",
       "      <td>0</td>\n",
       "      <td>93826.63</td>\n",
       "      <td>0</td>\n",
       "    </tr>\n",
       "    <tr>\n",
       "      <th>4</th>\n",
       "      <td>850</td>\n",
       "      <td>Spain</td>\n",
       "      <td>Female</td>\n",
       "      <td>2</td>\n",
       "      <td>125510.82</td>\n",
       "      <td>1</td>\n",
       "      <td>1</td>\n",
       "      <td>1</td>\n",
       "      <td>79084.10</td>\n",
       "      <td>0</td>\n",
       "    </tr>\n",
       "  </tbody>\n",
       "</table>\n",
       "</div>"
      ],
      "text/plain": [
       "   CreditScore Geography  Gender  Tenure    Balance  NumOfProducts  HasCrCard  \\\n",
       "0          619    France  Female       2       0.00              1          1   \n",
       "1          608     Spain  Female       1   83807.86              1          0   \n",
       "2          502    France  Female       8  159660.80              3          1   \n",
       "3          699    France  Female       1       0.00              2          0   \n",
       "4          850     Spain  Female       2  125510.82              1          1   \n",
       "\n",
       "   IsActiveMember  EstimatedSalary  Exited  \n",
       "0               1        101348.88       1  \n",
       "1               1        112542.58       0  \n",
       "2               0        113931.57       1  \n",
       "3               0         93826.63       0  \n",
       "4               1         79084.10       0  "
      ]
     },
     "execution_count": 2,
     "metadata": {},
     "output_type": "execute_result"
    }
   ],
   "source": [
    "churn_dataset.head()"
   ]
  },
  {
   "cell_type": "markdown",
   "id": "23d8c31b",
   "metadata": {},
   "source": [
    "## Separate dependent and independent variables"
   ]
  },
  {
   "cell_type": "code",
   "execution_count": 3,
   "id": "bf6c1d0c",
   "metadata": {},
   "outputs": [],
   "source": [
    "X = churn_dataset.iloc[:,:-1].values\n",
    "y = churn_dataset.iloc[:,-1].values"
   ]
  },
  {
   "cell_type": "code",
   "execution_count": 4,
   "id": "3c84062b",
   "metadata": {},
   "outputs": [
    {
     "data": {
      "text/plain": [
       "array([[619, 'France', 'Female', ..., 1, 1, 101348.88],\n",
       "       [608, 'Spain', 'Female', ..., 0, 1, 112542.58],\n",
       "       [502, 'France', 'Female', ..., 1, 0, 113931.57],\n",
       "       ...,\n",
       "       [709, 'France', 'Female', ..., 0, 1, 42085.58],\n",
       "       [772, 'Germany', 'Male', ..., 1, 0, 92888.52],\n",
       "       [792, 'France', 'Female', ..., 1, 0, 38190.78]], dtype=object)"
      ]
     },
     "execution_count": 4,
     "metadata": {},
     "output_type": "execute_result"
    }
   ],
   "source": [
    "X"
   ]
  },
  {
   "cell_type": "code",
   "execution_count": 5,
   "id": "3c30ec60",
   "metadata": {},
   "outputs": [
    {
     "data": {
      "text/plain": [
       "array([1, 0, 1, ..., 1, 1, 0])"
      ]
     },
     "execution_count": 5,
     "metadata": {},
     "output_type": "execute_result"
    }
   ],
   "source": [
    "y"
   ]
  },
  {
   "cell_type": "markdown",
   "id": "c60900d7",
   "metadata": {},
   "source": [
    "## Test and train split"
   ]
  },
  {
   "cell_type": "code",
   "execution_count": 6,
   "id": "e514326a",
   "metadata": {},
   "outputs": [],
   "source": [
    "from sklearn.model_selection import train_test_split\n",
    "X_train, X_test, y_train, y_test = train_test_split(X, y, test_size=0.2, random_state=42)"
   ]
  },
  {
   "cell_type": "markdown",
   "id": "272fa35a",
   "metadata": {},
   "source": [
    "## Data preprocessing"
   ]
  },
  {
   "cell_type": "code",
   "execution_count": 7,
   "id": "dd69a853",
   "metadata": {},
   "outputs": [],
   "source": [
    "from sklearn.preprocessing import OneHotEncoder\n",
    "from sklearn.compose import ColumnTransformer\n",
    "\n",
    "column_transformer = ColumnTransformer(\n",
    "    transformers=[\n",
    "        ('onehot', OneHotEncoder(handle_unknown='ignore'), [1, 2]) \n",
    "    ],\n",
    "    remainder='passthrough' \n",
    ")\n",
    "\n",
    "X_train = column_transformer.fit_transform(X_train)\n",
    "\n",
    "X_test = column_transformer.transform(X_test)"
   ]
  },
  {
   "cell_type": "code",
   "execution_count": 8,
   "id": "d690a53a",
   "metadata": {},
   "outputs": [
    {
     "data": {
      "text/plain": [
       "(8000, 12)"
      ]
     },
     "execution_count": 8,
     "metadata": {},
     "output_type": "execute_result"
    }
   ],
   "source": [
    "X_train.shape"
   ]
  },
  {
   "cell_type": "code",
   "execution_count": 9,
   "id": "c24f81dc",
   "metadata": {},
   "outputs": [
    {
     "data": {
      "text/plain": [
       "(2000, 12)"
      ]
     },
     "execution_count": 9,
     "metadata": {},
     "output_type": "execute_result"
    }
   ],
   "source": [
    "X_test.shape"
   ]
  },
  {
   "cell_type": "code",
   "execution_count": 10,
   "id": "30d24643",
   "metadata": {},
   "outputs": [
    {
     "data": {
      "text/plain": [
       "array([[1.0, 0.0, 0.0, 0.0, 1.0, 686, 6, 0.0, 2, 1, 1, 179093.26],\n",
       "       [0.0, 1.0, 0.0, 0.0, 1.0, 632, 4, 119624.6, 2, 1, 1, 195978.86],\n",
       "       [0.0, 0.0, 1.0, 0.0, 1.0, 559, 3, 114739.92, 1, 1, 0, 85891.02],\n",
       "       [1.0, 0.0, 0.0, 1.0, 0.0, 561, 9, 135637.0, 1, 1, 0, 153080.4],\n",
       "       [1.0, 0.0, 0.0, 0.0, 1.0, 517, 9, 142147.32, 1, 0, 0, 39488.04]],\n",
       "      dtype=object)"
      ]
     },
     "execution_count": 10,
     "metadata": {},
     "output_type": "execute_result"
    }
   ],
   "source": [
    "X_train[:5, :]"
   ]
  },
  {
   "cell_type": "markdown",
   "id": "c69b5dcf",
   "metadata": {},
   "source": [
    "## Feature scaling"
   ]
  },
  {
   "cell_type": "code",
   "execution_count": 11,
   "id": "17e5b64e",
   "metadata": {},
   "outputs": [],
   "source": [
    "from sklearn.preprocessing import StandardScaler\n",
    "sc = StandardScaler()\n",
    "\n",
    "X_train = sc.fit_transform(X_train)\n",
    "X_test = sc.transform(X_test)"
   ]
  },
  {
   "cell_type": "code",
   "execution_count": 12,
   "id": "b2fee3d4",
   "metadata": {},
   "outputs": [
    {
     "data": {
      "text/plain": [
       "array([[ 1.00150113, -0.57946723, -0.57638802, -0.91324755,  0.91324755,\n",
       "         0.35649971,  0.34567966, -1.21847056,  0.80843615,  0.64920267,\n",
       "         0.97481699,  1.36766974],\n",
       "       [-0.99850112,  1.72572313, -0.57638802, -0.91324755,  0.91324755,\n",
       "        -0.20389777, -0.3483691 ,  0.69683765,  0.80843615,  0.64920267,\n",
       "         0.97481699,  1.6612541 ],\n",
       "       [-0.99850112, -0.57946723,  1.73494238, -0.91324755,  0.91324755,\n",
       "        -0.96147213, -0.69539349,  0.61862909, -0.91668767,  0.64920267,\n",
       "        -1.02583358, -0.25280688],\n",
       "       [ 1.00150113, -0.57946723, -0.57638802,  1.09499335, -1.09499335,\n",
       "        -0.94071667,  1.38675281,  0.95321202, -0.91668767,  0.64920267,\n",
       "        -1.02583358,  0.91539272],\n",
       "       [ 1.00150113, -0.57946723, -0.57638802, -0.91324755,  0.91324755,\n",
       "        -1.39733684,  1.38675281,  1.05744869, -0.91668767, -1.54035103,\n",
       "        -1.02583358, -1.05960019]])"
      ]
     },
     "execution_count": 12,
     "metadata": {},
     "output_type": "execute_result"
    }
   ],
   "source": [
    "X_train[:5, :]"
   ]
  },
  {
   "cell_type": "markdown",
   "id": "b6eb3bbb",
   "metadata": {},
   "source": [
    "## Initialize neural network"
   ]
  },
  {
   "cell_type": "code",
   "execution_count": 13,
   "id": "ac044f28",
   "metadata": {},
   "outputs": [],
   "source": [
    "import torch\n",
    "import torch.nn as nn"
   ]
  },
  {
   "cell_type": "code",
   "execution_count": 14,
   "id": "3125e54d",
   "metadata": {},
   "outputs": [],
   "source": [
    "# Convert all numpy arrays to tensors\n",
    "X_train = torch.tensor(X_train, dtype=torch.float32)\n",
    "X_test = torch.tensor(X_test, dtype=torch.float32)\n",
    "y_train = torch.tensor(y_train, dtype=torch.float32).unsqueeze(1)\n",
    "y_test = torch.tensor(y_test, dtype=torch.float32).unsqueeze(1)"
   ]
  },
  {
   "cell_type": "code",
   "execution_count": 15,
   "id": "7498f246",
   "metadata": {},
   "outputs": [],
   "source": [
    "class LogisticRegressionModel(nn.Module):\n",
    "    def __init__(self, input_dim):\n",
    "        super(LogisticRegressionModel, self).__init__()\n",
    "        self.linear = nn.Linear(input_dim, 1)\n",
    "    \n",
    "    def forward(self, x):\n",
    "        return torch.sigmoid(self.linear(x))"
   ]
  },
  {
   "cell_type": "code",
   "execution_count": 16,
   "id": "2cb86136",
   "metadata": {},
   "outputs": [],
   "source": [
    "model = LogisticRegressionModel(X_train.shape[1])"
   ]
  },
  {
   "cell_type": "markdown",
   "id": "df08c899",
   "metadata": {},
   "source": [
    "## ADMM hyper parameters"
   ]
  },
  {
   "cell_type": "code",
   "execution_count": 17,
   "id": "2cdce04a",
   "metadata": {},
   "outputs": [],
   "source": [
    "alpha = 0.1\n",
    "u = torch.zeros_like(model.linear.weight, dtype=torch.float32) # Dual variable initialized to zero\n",
    "z = torch.zeros_like(model.linear.weight, dtype=torch.float32) # Proximal variable initialied to zero\n",
    "loss_fn = nn.BCELoss()"
   ]
  },
  {
   "cell_type": "markdown",
   "id": "5b43462a",
   "metadata": {},
   "source": [
    "## Soft thresholding function"
   ]
  },
  {
   "cell_type": "code",
   "execution_count": 18,
   "id": "435fbf87",
   "metadata": {},
   "outputs": [],
   "source": [
    "def soft_thresholding(x, alpha):\n",
    "    return torch.sign(x) * torch.max(torch.abs(x) - alpha, torch.zeros_like(x))"
   ]
  },
  {
   "cell_type": "markdown",
   "id": "6a77042f",
   "metadata": {},
   "source": [
    "## Logistic regression parameters"
   ]
  },
  {
   "cell_type": "code",
   "execution_count": 19,
   "id": "519c33ba",
   "metadata": {},
   "outputs": [],
   "source": [
    "epochs = 10000\n",
    "learning_rate = 0.01"
   ]
  },
  {
   "cell_type": "code",
   "execution_count": 20,
   "id": "d66b6aed",
   "metadata": {},
   "outputs": [],
   "source": [
    "# Optimizer for primal variable update\n",
    "import torch.optim as optim\n",
    "\n",
    "primal_optimizer = optim.SGD(model.parameters(), lr=learning_rate)"
   ]
  },
  {
   "cell_type": "markdown",
   "id": "ec7cc62b",
   "metadata": {},
   "source": [
    "## Training loop"
   ]
  },
  {
   "cell_type": "code",
   "execution_count": 21,
   "id": "f1fa0dd1",
   "metadata": {},
   "outputs": [
    {
     "name": "stdout",
     "output_type": "stream",
     "text": [
      "Epoch [1000/10000], Loss: 0.5269\n",
      "Epoch [2000/10000], Loss: 0.5198\n",
      "Epoch [3000/10000], Loss: 0.5196\n",
      "Epoch [4000/10000], Loss: 0.5195\n",
      "Epoch [5000/10000], Loss: 0.5196\n",
      "Epoch [6000/10000], Loss: 0.5197\n",
      "Epoch [7000/10000], Loss: 0.5197\n",
      "Epoch [8000/10000], Loss: 0.5197\n",
      "Epoch [9000/10000], Loss: 0.5197\n",
      "Epoch [10000/10000], Loss: 0.5198\n"
     ]
    }
   ],
   "source": [
    "training_loss_list = []\n",
    "epoch_list = []\n",
    "\n",
    "for epoch in range(epochs):\n",
    "    model.train()\n",
    "    \n",
    "    y_pred = model(X_train)\n",
    "    loss = loss_fn(y_pred, y_train)\n",
    "    \n",
    "    # primal variable update\n",
    "    l1_penalty = alpha * torch.sum(torch.abs(model.linear.weight - z + u))**2\n",
    "    total_loss = loss + l1_penalty\n",
    "\n",
    "    primal_optimizer.zero_grad()\n",
    "    total_loss.backward()\n",
    "    primal_optimizer.step()\n",
    "    \n",
    "    training_loss_list.append(total_loss.item())\n",
    "    epoch_list.append(epoch)\n",
    "    \n",
    "    # proximal update using soft-thresholding\n",
    "    with torch.no_grad():\n",
    "        z = soft_thresholding(model.linear.weight.data, alpha)\n",
    "    \n",
    "    # dual update\n",
    "    with torch.no_grad():\n",
    "        u = u + (model.linear.weight.data - z)\n",
    "    \n",
    "    if (epoch + 1) % 1000 == 0:\n",
    "        print(f'Epoch [{epoch+1}/{epochs}], Loss: {total_loss.item():.4f}')"
   ]
  },
  {
   "cell_type": "markdown",
   "id": "e1c96c8f",
   "metadata": {},
   "source": [
    "## Evaluate model based on test dataset"
   ]
  },
  {
   "cell_type": "code",
   "execution_count": 22,
   "id": "2a13fc61",
   "metadata": {},
   "outputs": [
    {
     "name": "stdout",
     "output_type": "stream",
     "text": [
      "Test Accuracy: 0.8035\n"
     ]
    }
   ],
   "source": [
    "model.eval()\n",
    "with torch.no_grad():\n",
    "    y_pred_test = model(X_test)\n",
    "    y_pred_test_labels = (y_pred_test > 0.5).float()  \n",
    "    accuracy = (y_pred_test_labels == y_test).float().mean()\n",
    "    print(f'Test Accuracy: {accuracy:.4f}')"
   ]
  },
  {
   "cell_type": "markdown",
   "id": "35a50380",
   "metadata": {},
   "source": [
    "## Visualization of training"
   ]
  },
  {
   "cell_type": "code",
   "execution_count": 23,
   "id": "be4b63a6",
   "metadata": {},
   "outputs": [
    {
     "data": {
      "image/png": "[encoded data removed]",
      "text/plain": [
       "<Figure size 640x480 with 1 Axes>"
      ]
     },
     "metadata": {},
     "output_type": "display_data"
    }
   ],
   "source": [
    "import matplotlib.pyplot as plt\n",
    "\n",
    "plt.plot(epoch_list,training_loss_list)\n",
    "plt.xlabel(\"Epochs\")\n",
    "plt.ylabel(\"Loss\")\n",
    "plt.title(\"Training Loss vs Number of Epochs\")\n",
    "plt.show()"
   ]
  },
  {
   "cell_type": "code",
   "execution_count": null,
   "id": "5a4662e3",
   "metadata": {},
   "outputs": [],
   "source": []
  }
 ],
 "metadata": {
  "kernelspec": {
   "display_name": "myenv",
   "language": "python",
   "name": "myenv"
  },
  "language_info": {
   "codemirror_mode": {
    "name": "ipython",
    "version": 3
   },
   "file_extension": ".py",
   "mimetype": "text/x-python",
   "name": "python",
   "nbconvert_exporter": "python",
   "pygments_lexer": "ipython3",
   "version": "3.12.3"
  }
 },
 "nbformat": 4,
 "nbformat_minor": 5
}
