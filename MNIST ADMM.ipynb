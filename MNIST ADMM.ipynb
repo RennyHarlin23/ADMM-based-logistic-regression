{
 "cells": [
  {
   "cell_type": "markdown",
   "id": "61fca129",
   "metadata": {},
   "source": [
    "# MNIST Classification based ADMM"
   ]
  },
  {
   "cell_type": "markdown",
   "id": "37bf9ea4",
   "metadata": {},
   "source": [
    "## Import libraries"
   ]
  },
  {
   "cell_type": "code",
   "execution_count": 1,
   "id": "0eb093ed",
   "metadata": {},
   "outputs": [
    {
     "data": {
      "text/plain": [
       "<torch._C.Generator at 0x79723813a930>"
      ]
     },
     "execution_count": 1,
     "metadata": {},
     "output_type": "execute_result"
    }
   ],
   "source": [
    "import torch\n",
    "import torch.nn as nn\n",
    "import torch.nn.functional as F\n",
    "from torchvision import datasets, transforms\n",
    "from torch.utils.data import DataLoader\n",
    "import numpy as np\n",
    "torch.manual_seed(42)"
   ]
  },
  {
   "cell_type": "markdown",
   "id": "c245e9f2",
   "metadata": {},
   "source": [
    "## Load dataset"
   ]
  },
  {
   "cell_type": "code",
   "execution_count": 2,
   "id": "e5fa57b1",
   "metadata": {},
   "outputs": [],
   "source": [
    "transform = transforms.Compose([\n",
    "    transforms.ToTensor(),\n",
    "    transforms.Normalize((0.1307,), (0.3081,))\n",
    "])\n",
    "\n",
    "train_dataset = datasets.MNIST('./', train=True, download=True, transform=transform)\n",
    "test_dataset = datasets.MNIST('./', train=False, transform=transform)\n",
    "\n",
    "train_loader = DataLoader(train_dataset, batch_size=128, shuffle=True)\n",
    "test_loader = DataLoader(test_dataset, batch_size=128, shuffle=False)"
   ]
  },
  {
   "cell_type": "markdown",
   "id": "9dda4f68",
   "metadata": {},
   "source": [
    "## Neural net architecture"
   ]
  },
  {
   "cell_type": "code",
   "execution_count": 3,
   "id": "0e55e029",
   "metadata": {},
   "outputs": [],
   "source": [
    "class model(nn.Module):\n",
    "    def __init__(self):\n",
    "        super(model, self).__init__()\n",
    "        self.fc1 = nn.Linear(784, 256)\n",
    "        self.fc2 = nn.Linear(256, 128)\n",
    "        self.fc3 = nn.Linear(128, 10)\n",
    "        \n",
    "    def forward(self, x):\n",
    "        x = x.view(-1, 784)\n",
    "        x = F.relu(self.fc1(x))\n",
    "        x = F.relu(self.fc2(x))\n",
    "        x = self.fc3(x)\n",
    "        return F.log_softmax(x, dim=1)"
   ]
  },
  {
   "cell_type": "markdown",
   "id": "595ec84f",
   "metadata": {},
   "source": [
    "## ADMM hyperparameters"
   ]
  },
  {
   "cell_type": "code",
   "execution_count": 4,
   "id": "f8e2a7ca",
   "metadata": {},
   "outputs": [],
   "source": [
    "model = model()\n",
    "rho = 1e-3\n",
    "l1_lambda = 1e-4\n",
    "primal_optimizer = torch.optim.Adam(model.parameters(), lr=1e-3)"
   ]
  },
  {
   "cell_type": "markdown",
   "id": "8f859ecc",
   "metadata": {},
   "source": [
    "## ADMM variables"
   ]
  },
  {
   "cell_type": "code",
   "execution_count": 5,
   "id": "ae085cd9",
   "metadata": {},
   "outputs": [],
   "source": [
    "z = [torch.zeros_like(p) for p in model.parameters()] # proximal variable\n",
    "u = [torch.zeros_like(p) for p in model.parameters()] # dual variable"
   ]
  },
  {
   "cell_type": "markdown",
   "id": "8b575f56",
   "metadata": {},
   "source": [
    "## Training loop"
   ]
  },
  {
   "cell_type": "code",
   "execution_count": 6,
   "id": "ca4bb9ed",
   "metadata": {},
   "outputs": [],
   "source": [
    "EPOCHS = 6"
   ]
  },
  {
   "cell_type": "code",
   "execution_count": 7,
   "id": "49f1e289",
   "metadata": {},
   "outputs": [
    {
     "name": "stdout",
     "output_type": "stream",
     "text": [
      "Epoch: 1/6 [0/60000 (0%)]\tTask Loss: 2.300617\tADMM Loss: 0.065939\n",
      "Epoch: 1/6 [12800/60000 (21%)]\tTask Loss: 0.253490\tADMM Loss: 1.032355\n",
      "Epoch: 1/6 [25600/60000 (43%)]\tTask Loss: 0.252291\tADMM Loss: 0.961445\n",
      "Epoch: 1/6 [38400/60000 (64%)]\tTask Loss: 0.141449\tADMM Loss: 0.918350\n",
      "Epoch: 1/6 [51200/60000 (85%)]\tTask Loss: 0.219285\tADMM Loss: 0.887217\n",
      "\n",
      "Epoch: 1\n",
      "Average Training Task Loss: 0.286753\n",
      "Average Training ADMM Loss: 0.954863\n",
      "Test Loss: 0.153135\n",
      "Test Accuracy: 95.54%\n",
      "\n",
      "Epoch: 2/6 [0/60000 (0%)]\tTask Loss: 0.141798\tADMM Loss: 0.883832\n",
      "Epoch: 2/6 [12800/60000 (21%)]\tTask Loss: 0.084308\tADMM Loss: 0.870670\n",
      "Epoch: 2/6 [25600/60000 (43%)]\tTask Loss: 0.157837\tADMM Loss: 0.864960\n",
      "Epoch: 2/6 [38400/60000 (64%)]\tTask Loss: 0.163291\tADMM Loss: 0.850396\n",
      "Epoch: 2/6 [51200/60000 (85%)]\tTask Loss: 0.113083\tADMM Loss: 0.846007\n",
      "\n",
      "Epoch: 2\n",
      "Average Training Task Loss: 0.131405\n",
      "Average Training ADMM Loss: 0.858187\n",
      "Test Loss: 0.110601\n",
      "Test Accuracy: 96.61%\n",
      "\n",
      "Epoch: 3/6 [0/60000 (0%)]\tTask Loss: 0.127235\tADMM Loss: 0.838877\n",
      "Epoch: 3/6 [12800/60000 (21%)]\tTask Loss: 0.125519\tADMM Loss: 0.835532\n",
      "Epoch: 3/6 [25600/60000 (43%)]\tTask Loss: 0.108264\tADMM Loss: 0.830487\n",
      "Epoch: 3/6 [38400/60000 (64%)]\tTask Loss: 0.149735\tADMM Loss: 0.824765\n",
      "Epoch: 3/6 [51200/60000 (85%)]\tTask Loss: 0.079481\tADMM Loss: 0.816282\n",
      "\n",
      "Epoch: 3\n",
      "Average Training Task Loss: 0.104709\n",
      "Average Training ADMM Loss: 0.827278\n",
      "Test Loss: 0.099504\n",
      "Test Accuracy: 97.00%\n",
      "\n",
      "Epoch: 4/6 [0/60000 (0%)]\tTask Loss: 0.026480\tADMM Loss: 0.823603\n",
      "Epoch: 4/6 [12800/60000 (21%)]\tTask Loss: 0.111093\tADMM Loss: 0.811516\n",
      "Epoch: 4/6 [25600/60000 (43%)]\tTask Loss: 0.038077\tADMM Loss: 0.810477\n",
      "Epoch: 4/6 [38400/60000 (64%)]\tTask Loss: 0.114900\tADMM Loss: 0.800609\n",
      "Epoch: 4/6 [51200/60000 (85%)]\tTask Loss: 0.059906\tADMM Loss: 0.802092\n",
      "\n",
      "Epoch: 4\n",
      "Average Training Task Loss: 0.088673\n",
      "Average Training ADMM Loss: 0.808508\n",
      "Test Loss: 0.090686\n",
      "Test Accuracy: 97.17%\n",
      "\n",
      "Epoch: 5/6 [0/60000 (0%)]\tTask Loss: 0.129898\tADMM Loss: 0.809488\n",
      "Epoch: 5/6 [12800/60000 (21%)]\tTask Loss: 0.096701\tADMM Loss: 0.801609\n",
      "Epoch: 5/6 [25600/60000 (43%)]\tTask Loss: 0.046921\tADMM Loss: 0.800298\n",
      "Epoch: 5/6 [38400/60000 (64%)]\tTask Loss: 0.146089\tADMM Loss: 0.792424\n",
      "Epoch: 5/6 [51200/60000 (85%)]\tTask Loss: 0.139117\tADMM Loss: 0.797641\n",
      "\n",
      "Epoch: 5\n",
      "Average Training Task Loss: 0.079736\n",
      "Average Training ADMM Loss: 0.800099\n",
      "Test Loss: 0.089905\n",
      "Test Accuracy: 97.21%\n",
      "\n",
      "Epoch: 6/6 [0/60000 (0%)]\tTask Loss: 0.113655\tADMM Loss: 0.793481\n",
      "Epoch: 6/6 [12800/60000 (21%)]\tTask Loss: 0.139690\tADMM Loss: 0.792753\n",
      "Epoch: 6/6 [25600/60000 (43%)]\tTask Loss: 0.072571\tADMM Loss: 0.795014\n",
      "Epoch: 6/6 [38400/60000 (64%)]\tTask Loss: 0.076347\tADMM Loss: 0.799842\n",
      "Epoch: 6/6 [51200/60000 (85%)]\tTask Loss: 0.092374\tADMM Loss: 0.798651\n",
      "\n",
      "Epoch: 6\n",
      "Average Training Task Loss: 0.074099\n",
      "Average Training ADMM Loss: 0.796454\n",
      "Test Loss: 0.080473\n",
      "Test Accuracy: 97.56%\n",
      "\n"
     ]
    }
   ],
   "source": [
    "for epoch in range(EPOCHS):\n",
    "    model.train()\n",
    "    total_task_loss = 0\n",
    "    total_admm_loss = 0\n",
    "    \n",
    "    for batch_idx, (data, target) in enumerate(train_loader):\n",
    "        \n",
    "        primal_optimizer.zero_grad()\n",
    "                \n",
    "        output = model(data)\n",
    "        \n",
    "        task_loss = F.nll_loss(output, target)\n",
    "        admm_loss = 0\n",
    "        \n",
    "        # Augmented Lagrangian\n",
    "        for idx, param in enumerate(model.parameters()):\n",
    "            admm_loss += (rho/2) * torch.sum((param - z[idx] + u[idx])**2)\n",
    "        \n",
    "        total_loss = task_loss + admm_loss\n",
    "        \n",
    "        # Primal variable update\n",
    "        total_loss.backward()\n",
    "        primal_optimizer.step()\n",
    "        \n",
    "        # Proximal variable update\n",
    "        with torch.no_grad():\n",
    "            for idx, param in enumerate(model.parameters()):\n",
    "                v = param + u[idx]\n",
    "                z[idx] = torch.sign(v) * torch.maximum(\n",
    "                    torch.abs(v) - l1_lambda/rho,\n",
    "                    torch.tensor(0.0)\n",
    "                )\n",
    "        \n",
    "        # Dual variable update\n",
    "        with torch.no_grad():\n",
    "            for idx, param in enumerate(model.parameters()):\n",
    "                u[idx] = u[idx] + param - z[idx]\n",
    "        \n",
    "        total_task_loss += task_loss\n",
    "        total_admm_loss += admm_loss\n",
    "        \n",
    "        if batch_idx % 100 == 0:\n",
    "            print(f'Epoch: {epoch+1}/{EPOCHS} [{batch_idx*len(data)}/{len(train_loader.dataset)} '\n",
    "                  f'({100. * batch_idx / len(train_loader):.0f}%)]\\t'\n",
    "                  f'Task Loss: {task_loss:.6f}\\t'\n",
    "                  f'ADMM Loss: {admm_loss:.6f}')\n",
    "            \n",
    "    model.eval()\n",
    "    test_loss = 0\n",
    "    correct = 0\n",
    "    with torch.no_grad():\n",
    "        for data, target in test_loader:\n",
    "            output = model(data)\n",
    "            test_loss += F.nll_loss(output, target, reduction='sum').item()\n",
    "            pred = output.argmax(dim=1, keepdim=True)\n",
    "            correct += pred.eq(target.view_as(pred)).sum().item()\n",
    "\n",
    "    test_loss /= len(test_loader.dataset)\n",
    "    accuracy = 100. * correct / len(test_loader.dataset)\n",
    "\n",
    "    print(f'\\nEpoch: {epoch+1}')\n",
    "    print(f'Average Training Task Loss: {total_task_loss/len(train_loader):.6f}')\n",
    "    print(f'Average Training ADMM Loss: {total_admm_loss/len(train_loader):.6f}')\n",
    "    print(f'Test Loss: {test_loss:.6f}')\n",
    "    print(f'Test Accuracy: {accuracy:.2f}%\\n')"
   ]
  },
  {
   "cell_type": "markdown",
   "id": "a4036c08",
   "metadata": {},
   "source": [
    "## Check graph sparsity"
   ]
  },
  {
   "cell_type": "code",
   "execution_count": 8,
   "id": "d17ac4f2",
   "metadata": {},
   "outputs": [
    {
     "name": "stdout",
     "output_type": "stream",
     "text": [
      "\n",
      "Final model sparsity: 0.17% parameters near zero\n"
     ]
    }
   ],
   "source": [
    "def compute_sparsity(model):\n",
    "    total_params = 0\n",
    "    zero_params = 0\n",
    "    for param in model.parameters():\n",
    "        total_params += param.numel()\n",
    "        zero_params += (param.abs() < 1e-5).sum().item()\n",
    "    return zero_params / total_params * 100\n",
    "\n",
    "sparsity = compute_sparsity(model)\n",
    "print(f'\\nFinal model sparsity: {sparsity:.2f}% parameters near zero')"
   ]
  }
 ],
 "metadata": {
  "kernelspec": {
   "display_name": "myenv",
   "language": "python",
   "name": "myenv"
  },
  "language_info": {
   "codemirror_mode": {
    "name": "ipython",
    "version": 3
   },
   "file_extension": ".py",
   "mimetype": "text/x-python",
   "name": "python",
   "nbconvert_exporter": "python",
   "pygments_lexer": "ipython3",
   "version": "3.12.3"
  }
 },
 "nbformat": 4,
 "nbformat_minor": 5
}
